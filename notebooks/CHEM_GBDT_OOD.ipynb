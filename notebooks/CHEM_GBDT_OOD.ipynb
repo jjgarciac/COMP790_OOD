{
 "cells": [
  {
   "cell_type": "code",
   "execution_count": 1,
   "metadata": {},
   "outputs": [
    {
     "name": "stdout",
     "output_type": "stream",
     "text": [
      "Current working directory: /Users/jj/Downloads/CHEM\n"
     ]
    }
   ],
   "source": [
    "import os\n",
    "os.chdir('/Users/jj/Downloads/CHEM')\n",
    "print(\"Current working directory: {0}\".format(os.getcwd()))"
   ]
  },
  {
   "cell_type": "code",
   "execution_count": 2,
   "metadata": {
    "id": "EXxipvmSWDIi"
   },
   "outputs": [],
   "source": [
    "%matplotlib inline\n",
    "import numpy as np\n",
    "import matplotlib.pyplot as plt\n",
    "import scipy.stats\n",
    "import pandas as pd"
   ]
  },
  {
   "cell_type": "code",
   "execution_count": 3,
   "metadata": {
    "id": "FDwgr2mvrr43"
   },
   "outputs": [],
   "source": [
    "import tensorflow as tf\n",
    "import tensorflow_probability as tfp"
   ]
  },
  {
   "cell_type": "code",
   "execution_count": 4,
   "metadata": {
    "id": "MiA1dcJqpTKA"
   },
   "outputs": [],
   "source": [
    "from scipy.linalg import null_space\n",
    "from sklearn.cross_decomposition import CCA"
   ]
  },
  {
   "cell_type": "code",
   "execution_count": 5,
   "metadata": {
    "colab": {
     "base_uri": "https://localhost:8080/"
    },
    "id": "VyVyoLZXEp70",
    "outputId": "78fdde6d-53a8-4754-ead2-28bafd8b734b"
   },
   "outputs": [],
   "source": [
    "import pickle"
   ]
  },
  {
   "cell_type": "code",
   "execution_count": 6,
   "metadata": {},
   "outputs": [],
   "source": [
    "from src.models.GBDT import GBDT, grid_search"
   ]
  },
  {
   "cell_type": "code",
   "execution_count": 7,
   "metadata": {
    "id": "yKeTe4yOnToa"
   },
   "outputs": [],
   "source": [
    "with open('./data/chem/train.csv', 'r') as f:\n",
    "  X = np.float32(np.array([line.strip().split(',')[2:] for line in f])[1:])\n",
    "\n",
    "with open('./data/chem/train.csv', 'r') as f:\n",
    "  Y = np.float32(np.array([line.strip().split(',')[1] for line in f])[1:])"
   ]
  },
  {
   "cell_type": "code",
   "execution_count": 8,
   "metadata": {
    "id": "Y61DeT8VnbHz"
   },
   "outputs": [],
   "source": [
    "with open('./data/chem/val_id.csv', 'r') as f:\n",
    "  X_val = np.float32(np.array([line.strip().split(',')[2:] for line in f])[1:])\n",
    "\n",
    "with open('./data/chem/val_id.csv', 'r') as f:\n",
    "  Y_val = np.float32(np.array([line.strip().split(',')[1] for line in f])[1:])"
   ]
  },
  {
   "cell_type": "code",
   "execution_count": 9,
   "metadata": {
    "id": "LWIOdpCV2_vk"
   },
   "outputs": [],
   "source": [
    "with open('./data/chem/test_id.csv', 'r') as f:\n",
    "  X_tst = np.float32(np.array([line.strip().split(',')[2:] for line in f])[1:])\n",
    "\n",
    "with open('./data/chem/test_id.csv', 'r') as f:\n",
    "  Y_tst = np.float32(np.array([line.strip().split(',')[1] for line in f])[1:])"
   ]
  },
  {
   "cell_type": "code",
   "execution_count": 10,
   "metadata": {
    "id": "z6FSfDjBq2qA"
   },
   "outputs": [],
   "source": [
    "with open('./data/chem/val_ood.csv', 'r') as f:\n",
    "  X_ext = np.float32(np.array([line.strip().split(',')[4:] for line in f])[1:])\n",
    "\n",
    "with open('./data/chem/val_ood.csv', 'r') as f:\n",
    "  Y_ext = np.float32(np.array([line.strip().split(',')[1] for line in f])[1:])"
   ]
  },
  {
   "cell_type": "code",
   "execution_count": 11,
   "metadata": {},
   "outputs": [],
   "source": [
    "Y_ext = np.int32(Y_ext)\n",
    "Y_val = np.int32(Y_val)\n",
    "Y_tst = np.int32(Y_tst)\n",
    "Y = np.int32(Y)"
   ]
  },
  {
   "cell_type": "code",
   "execution_count": 12,
   "metadata": {
    "id": "vaojUtEdY2p2"
   },
   "outputs": [],
   "source": [
    "# standardize the data\n",
    "mu_x = np.mean(X, 0, keepdims=True)\n",
    "sigma_x = np.std(X, 0, keepdims=True)\n",
    "X = (X-mu_x)/sigma_x\n",
    "X_val = (X_val-mu_x)/sigma_x\n",
    "X_tst = (X_tst-mu_x)/sigma_x\n",
    "X_ext = (X_ext-mu_x)/sigma_x\n",
    "\n",
    "# PCA\n",
    "# XtX = np.matmul(X.T, X)\n",
    "# eigvals, eigvecs = np.linalg.eig(XtX)\n",
    "# sortinds = np.argsort(-eigvals)\n",
    "# V = eigvecs[:, sortinds]"
   ]
  },
  {
   "cell_type": "code",
   "execution_count": 13,
   "metadata": {
    "id": "T8FwitHVZ0-W"
   },
   "outputs": [],
   "source": [
    "# external_X = (external_X-mu_x)/sigma_x\n",
    "# # held_X = (dataX_val-mu_x)/sigma_x\n",
    "# # held_Y = dataY_val\n",
    "# held_X = (np.concatenate((dataX_val, dataX_tst), 0)-mu_x)/sigma_x\n",
    "# held_Y = np.concatenate((dataY_val, dataY_tst), 0)"
   ]
  },
  {
   "cell_type": "markdown",
   "metadata": {
    "id": "WLFih2JtxsXh"
   },
   "source": [
    "Most Vanilla Ensemble with randomly chosen subset and projects."
   ]
  },
  {
   "cell_type": "code",
   "execution_count": 14,
   "metadata": {
    "colab": {
     "base_uri": "https://localhost:8080/"
    },
    "id": "YR7YNbvCSc0n",
    "outputId": "5b0b8716-bb6e-4d41-8c7d-340184932d7f",
    "scrolled": false
   },
   "outputs": [
    {
     "name": "stdout",
     "output_type": "stream",
     "text": [
      "\n",
      "bestTest = 0.6721793354\n",
      "bestIteration = 976\n",
      "\n",
      "0:\tloss: 0.6721793\tbest: 0.6721793 (0)\ttotal: 2.02s\tremaining: 1m 10s\n",
      "\n",
      "bestTest = 0.7173489479\n",
      "bestIteration = 702\n",
      "\n",
      "1:\tloss: 0.7173489\tbest: 0.7173489 (1)\ttotal: 4.99s\tremaining: 1m 24s\n",
      "\n",
      "bestTest = 0.756418009\n",
      "bestIteration = 801\n",
      "\n",
      "2:\tloss: 0.7564180\tbest: 0.7564180 (2)\ttotal: 7.08s\tremaining: 1m 17s\n",
      "\n",
      "bestTest = 0.6787426354\n",
      "bestIteration = 978\n",
      "\n",
      "3:\tloss: 0.6787426\tbest: 0.7564180 (2)\ttotal: 10.2s\tremaining: 1m 21s\n",
      "\n",
      "bestTest = 0.7278779423\n",
      "bestIteration = 497\n",
      "\n",
      "4:\tloss: 0.7278779\tbest: 0.7564180 (2)\ttotal: 13.2s\tremaining: 1m 21s\n",
      "\n",
      "bestTest = 0.7538237629\n",
      "bestIteration = 817\n",
      "\n",
      "5:\tloss: 0.7538238\tbest: 0.7564180 (2)\ttotal: 16s\tremaining: 1m 19s\n",
      "\n",
      "bestTest = 0.6781345959\n",
      "bestIteration = 998\n",
      "\n",
      "6:\tloss: 0.6781346\tbest: 0.7564180 (2)\ttotal: 19s\tremaining: 1m 18s\n",
      "\n",
      "bestTest = 0.72925275\n",
      "bestIteration = 999\n",
      "\n",
      "7:\tloss: 0.7292527\tbest: 0.7564180 (2)\ttotal: 22s\tremaining: 1m 17s\n",
      "\n",
      "bestTest = 0.7497060587\n",
      "bestIteration = 864\n",
      "\n",
      "8:\tloss: 0.7497061\tbest: 0.7564180 (2)\ttotal: 24.7s\tremaining: 1m 14s\n",
      "\n",
      "bestTest = 0.7211659919\n",
      "bestIteration = 962\n",
      "\n",
      "9:\tloss: 0.7211660\tbest: 0.7564180 (2)\ttotal: 28.1s\tremaining: 1m 13s\n",
      "\n",
      "bestTest = 0.7567253882\n",
      "bestIteration = 941\n",
      "\n",
      "10:\tloss: 0.7567254\tbest: 0.7567254 (10)\ttotal: 31.5s\tremaining: 1m 11s\n",
      "\n",
      "bestTest = 0.7756552387\n",
      "bestIteration = 940\n",
      "\n",
      "11:\tloss: 0.7756552\tbest: 0.7756552 (11)\ttotal: 34.9s\tremaining: 1m 9s\n",
      "\n",
      "bestTest = 0.7323097446\n",
      "bestIteration = 907\n",
      "\n",
      "12:\tloss: 0.7323097\tbest: 0.7756552 (11)\ttotal: 38.9s\tremaining: 1m 8s\n",
      "\n",
      "bestTest = 0.7703113772\n",
      "bestIteration = 986\n",
      "\n",
      "13:\tloss: 0.7703114\tbest: 0.7756552 (11)\ttotal: 43.2s\tremaining: 1m 7s\n",
      "\n",
      "bestTest = 0.7532190829\n",
      "bestIteration = 857\n",
      "\n",
      "14:\tloss: 0.7532191\tbest: 0.7756552 (11)\ttotal: 47.6s\tremaining: 1m 6s\n",
      "\n",
      "bestTest = 0.7312389566\n",
      "bestIteration = 937\n",
      "\n",
      "15:\tloss: 0.7312390\tbest: 0.7756552 (11)\ttotal: 52.8s\tremaining: 1m 5s\n",
      "\n",
      "bestTest = 0.7800736033\n",
      "bestIteration = 895\n",
      "\n",
      "16:\tloss: 0.7800736\tbest: 0.7800736 (16)\ttotal: 58s\tremaining: 1m 4s\n",
      "\n",
      "bestTest = 0.7739730518\n",
      "bestIteration = 978\n",
      "\n",
      "17:\tloss: 0.7739731\tbest: 0.7800736 (16)\ttotal: 1m 2s\tremaining: 1m 2s\n",
      "\n",
      "bestTest = 0.7519929256\n",
      "bestIteration = 761\n",
      "\n",
      "18:\tloss: 0.7519929\tbest: 0.7800736 (16)\ttotal: 1m 9s\tremaining: 1m 1s\n",
      "\n",
      "bestTest = 0.7825158395\n",
      "bestIteration = 758\n",
      "\n",
      "19:\tloss: 0.7825158\tbest: 0.7825158 (19)\ttotal: 1m 15s\tremaining: 1m\n",
      "\n",
      "bestTest = 0.7802323321\n",
      "bestIteration = 416\n",
      "\n",
      "20:\tloss: 0.7802323\tbest: 0.7825158 (19)\ttotal: 1m 20s\tremaining: 57.6s\n",
      "\n",
      "bestTest = 0.7729056233\n",
      "bestIteration = 993\n",
      "\n",
      "21:\tloss: 0.7729056\tbest: 0.7825158 (19)\ttotal: 1m 27s\tremaining: 55.9s\n",
      "\n",
      "bestTest = 0.7864848934\n",
      "bestIteration = 600\n",
      "\n",
      "22:\tloss: 0.7864849\tbest: 0.7864849 (22)\ttotal: 1m 35s\tremaining: 54s\n",
      "\n",
      "bestTest = 0.7832859672\n",
      "bestIteration = 830\n",
      "\n",
      "23:\tloss: 0.7832860\tbest: 0.7864849 (22)\ttotal: 1m 44s\tremaining: 52.3s\n",
      "\n",
      "bestTest = 0.7745844508\n",
      "bestIteration = 968\n",
      "\n",
      "24:\tloss: 0.7745845\tbest: 0.7864849 (22)\ttotal: 1m 54s\tremaining: 50.2s\n",
      "\n",
      "bestTest = 0.7861842331\n",
      "bestIteration = 997\n",
      "\n",
      "25:\tloss: 0.7861842\tbest: 0.7864849 (22)\ttotal: 2m 2s\tremaining: 47.2s\n",
      "\n",
      "bestTest = 0.7675617617\n",
      "bestIteration = 869\n",
      "\n",
      "26:\tloss: 0.7675618\tbest: 0.7864849 (22)\ttotal: 2m 10s\tremaining: 43.6s\n",
      "\n",
      "bestTest = 0.7735136628\n",
      "bestIteration = 792\n",
      "\n",
      "27:\tloss: 0.7735137\tbest: 0.7864849 (22)\ttotal: 2m 24s\tremaining: 41.2s\n",
      "\n",
      "bestTest = 0.7822084603\n",
      "bestIteration = 364\n",
      "\n",
      "28:\tloss: 0.7822085\tbest: 0.7864849 (22)\ttotal: 2m 38s\tremaining: 38.2s\n",
      "\n",
      "bestTest = 0.7643594762\n",
      "bestIteration = 979\n",
      "\n",
      "29:\tloss: 0.7643595\tbest: 0.7864849 (22)\ttotal: 2m 52s\tremaining: 34.4s\n",
      "\n",
      "bestTest = 0.7820631694\n",
      "bestIteration = 946\n",
      "\n",
      "30:\tloss: 0.7820632\tbest: 0.7864849 (22)\ttotal: 3m 7s\tremaining: 30.3s\n",
      "\n",
      "bestTest = 0.7848060659\n",
      "bestIteration = 396\n",
      "\n",
      "31:\tloss: 0.7848061\tbest: 0.7864849 (22)\ttotal: 3m 24s\tremaining: 25.5s\n",
      "\n",
      "bestTest = 0.7907579669\n",
      "bestIteration = 760\n",
      "\n",
      "32:\tloss: 0.7907580\tbest: 0.7907580 (32)\ttotal: 3m 41s\tremaining: 20.1s\n",
      "\n",
      "bestTest = 0.7802289726\n",
      "bestIteration = 456\n",
      "\n",
      "33:\tloss: 0.7802290\tbest: 0.7907580 (32)\ttotal: 3m 59s\tremaining: 14.1s\n",
      "\n",
      "bestTest = 0.7805363518\n",
      "bestIteration = 799\n",
      "\n",
      "34:\tloss: 0.7805364\tbest: 0.7907580 (32)\ttotal: 4m 19s\tremaining: 7.41s\n",
      "\n",
      "bestTest = 0.7741284212\n",
      "bestIteration = 841\n",
      "\n",
      "35:\tloss: 0.7741284\tbest: 0.7907580 (32)\ttotal: 4m 39s\tremaining: 0us\n",
      "Estimating final quality...\n",
      "Training on fold [0/3]\n",
      "\n",
      "bestTest = 0.7834756412\n",
      "bestIteration = 919\n",
      "\n",
      "Training on fold [1/3]\n",
      "\n",
      "bestTest = 0.7580858092\n",
      "bestIteration = 888\n",
      "\n",
      "Training on fold [2/3]\n",
      "\n",
      "bestTest = 0.7663386528\n",
      "bestIteration = 996\n",
      "\n",
      "best iter  0\n",
      "best score  {'learn': {'Logloss': 0.022885422815456562, 'ZeroOneLoss:use_weights=true': 0.004525590221088449, 'ZeroOneLoss:use_weights=false': 0.004835751208937755}, 'validation': {'Logloss': 0.6364612614981534, 'ZeroOneLoss:use_weights=true': 0.26589652378759987, 'ZeroOneLoss:use_weights=false': 0.26568758344459276}}\n",
      "best iter  3\n",
      "best score  {'learn': {'Logloss': 0.02172583789229017, 'ZeroOneLoss:use_weights=true': 0.004525590221088449, 'ZeroOneLoss:use_weights=false': 0.004835751208937755}, 'validation': {'Logloss': 0.6226599553682799, 'ZeroOneLoss:use_weights=true': 0.2779215057150193, 'ZeroOneLoss:use_weights=false': 0.27636849132176233}}\n",
      "best iter  2\n",
      "best score  {'learn': {'Logloss': 0.021813846363810716, 'ZeroOneLoss:use_weights=true': 0.004525590221088449, 'ZeroOneLoss:use_weights=false': 0.004835751208937755}, 'validation': {'Logloss': 0.6273269306607376, 'ZeroOneLoss:use_weights=true': 0.2909408018720745, 'ZeroOneLoss:use_weights=false': 0.29105473965287054}}\n",
      "best iter  1\n",
      "best score  {'learn': {'Logloss': 0.022248589885833926, 'ZeroOneLoss:use_weights=true': 0.004525590221088449, 'ZeroOneLoss:use_weights=false': 0.004835751208937755}, 'validation': {'Logloss': 0.5739509349403136, 'ZeroOneLoss:use_weights=true': 0.25214365114501835, 'ZeroOneLoss:use_weights=false': 0.25100133511348466}}\n",
      "best iter  2\n",
      "best score  {'learn': {'Logloss': 0.022566270982643407, 'ZeroOneLoss:use_weights=true': 0.004525590221088449, 'ZeroOneLoss:use_weights=false': 0.004835751208937755}, 'validation': {'Logloss': 0.5812451699209363, 'ZeroOneLoss:use_weights=true': 0.24896481970773798, 'ZeroOneLoss:use_weights=false': 0.25100133511348466}}\n",
      "best iter  0\n",
      "best score  {'learn': {'Logloss': 0.02291664626689662, 'ZeroOneLoss:use_weights=true': 0.004525590221088449, 'ZeroOneLoss:use_weights=false': 0.004835751208937755}, 'validation': {'Logloss': 0.6210480822398646, 'ZeroOneLoss:use_weights=true': 0.2590227895077981, 'ZeroOneLoss:use_weights=false': 0.2590120160213618}}\n",
      "best iter  1\n",
      "best score  {'learn': {'Logloss': 0.022395025336302086, 'ZeroOneLoss:use_weights=true': 0.004525590221088449, 'ZeroOneLoss:use_weights=false': 0.004835751208937755}, 'validation': {'Logloss': 0.6422057831993486, 'ZeroOneLoss:use_weights=true': 0.25215445931097447, 'ZeroOneLoss:use_weights=false': 0.2536715620827771}}\n",
      "best iter  0\n",
      "best score  {'learn': {'Logloss': 0.02203213114515548, 'ZeroOneLoss:use_weights=true': 0.004525590221088449, 'ZeroOneLoss:use_weights=false': 0.004835751208937755}, 'validation': {'Logloss': 0.6303628561752262, 'ZeroOneLoss:use_weights=true': 0.27080865002302024, 'ZeroOneLoss:use_weights=false': 0.2710280373831776}}\n",
      "best iter  0\n",
      "best score  {'learn': {'Logloss': 0.02263137321677472, 'ZeroOneLoss:use_weights=true': 0.004525590221088449, 'ZeroOneLoss:use_weights=false': 0.004835751208937755}, 'validation': {'Logloss': 0.6344096655156187, 'ZeroOneLoss:use_weights=true': 0.2631959351747142, 'ZeroOneLoss:use_weights=false': 0.26301735647530045}}\n",
      "best iter  1\n",
      "best score  {'learn': {'Logloss': 0.021632501514924966, 'ZeroOneLoss:use_weights=true': 0.004525590221088449, 'ZeroOneLoss:use_weights=false': 0.004835751208937755}, 'validation': {'Logloss': 0.6101250454226192, 'ZeroOneLoss:use_weights=true': 0.28038297291570746, 'ZeroOneLoss:use_weights=false': 0.28037383177570097}}\n"
     ]
    }
   ],
   "source": [
    "splits_rand = []\n",
    "dirs_rand = []\n",
    "mus_rand = []\n",
    "class_rand = []\n",
    "\n",
    "N = X.shape[0]\n",
    "d =  X.shape[1]\n",
    "random_seed = 12398\n",
    "coverage_threshold = .8\n",
    "\n",
    "hyperparams = grid_search(X, Y, random_seed)\n",
    "\n",
    "# Estimate model\n",
    "model = GBDT(**hyperparams)\n",
    "model.fit(X, Y, validation_data=(X_val, Y_val), use_best_model=True)"
   ]
  },
  {
   "cell_type": "code",
   "execution_count": 17,
   "metadata": {},
   "outputs": [],
   "source": [
    "# Estimate cutoff using validation data.\n",
    "n_val = len(X_val)\n",
    "u = model.score(X_val)/np.log(float(len(np.unique(Y))))\n",
    "selected_cutoff = np.quantile(u, np.ceil((n_val+1)*(coverage_threshold))/n_val, method='higher')\n",
    "\n",
    "# Evaluate model on internal cohort\n",
    "pred = model.predict(X_ext)\n",
    "u = model.score(X_ext)/np.log(float(len(np.unique(Y))))"
   ]
  },
  {
   "cell_type": "code",
   "execution_count": 20,
   "metadata": {
    "colab": {
     "base_uri": "https://localhost:8080/",
     "height": 524
    },
    "id": "SUJXW4SRufYn",
    "outputId": "52702394-b344-4960-83b6-d93c597727c1"
   },
   "outputs": [
    {
     "data": {
      "text/plain": [
       "<matplotlib.legend.Legend at 0x2bb1fa020>"
      ]
     },
     "execution_count": 20,
     "metadata": {},
     "output_type": "execute_result"
    },
    {
     "data": {
      "image/png": "[encoded data removed]",
      "text/plain": [
       "<Figure size 640x480 with 1 Axes>"
      ]
     },
     "metadata": {},
     "output_type": "display_data"
    }
   ],
   "source": [
    "threshs = u\n",
    "ens_preds = pred\n",
    "std_threshs = np.linspace(np.min(threshs), np.max(threshs), 20)\n",
    "reject_rate = [1 - np.mean((threshs<=s)) for s in std_threshs]\n",
    "accus = [np.mean((ens_preds==Y_ext)[(threshs<=s)]) for s in std_threshs]\n",
    "tps = [np.sum(((Y_ext)*(ens_preds==Y_ext))[(threshs<=s)]) for s in std_threshs]  # correct and positive\n",
    "fps = [np.sum(((ens_preds)*(ens_preds!=Y_ext))[(threshs<=s)]) for s in std_threshs]  # incorrect and predicted positive\n",
    "pos = np.sum(Y_ext)\n",
    "recall = [tp/pos for tp in tps]\n",
    "precision = [tp/(tp+fp) for tp, fp in zip(tps, fps)]\n",
    "plt.plot(recall, precision, marker='+', c='orange')\n",
    "\n",
    "plt.plot(recall, precision, marker='+', c='orange')\n",
    "plt.xticks(np.arange(0, 1.01, step=0.1))\n",
    "plt.xticks(np.arange(0, 1.01, step=0.05), minor=True)\n",
    "plt.yticks(np.arange(.6, 1.01, step=0.05))\n",
    "plt.grid(True, which='both')\n",
    "plt.xlabel('Recall ({} Positive)'.format(int(pos)))\n",
    "plt.ylabel('Precision')\n",
    "plt.title('Precision vs Recall by Thresholding H(p(Y|X, D))')\n",
    "plt.legend(['Precision GBDT'])"
   ]
  },
  {
   "cell_type": "code",
   "execution_count": null,
   "metadata": {},
   "outputs": [],
   "source": []
  }
 ],
 "metadata": {
  "colab": {
   "machine_shape": "hm",
   "provenance": []
  },
  "kernelspec": {
   "display_name": "Python 3 (ipykernel)",
   "language": "python",
   "name": "python3"
  },
  "language_info": {
   "codemirror_mode": {
    "name": "ipython",
    "version": 3
   },
   "file_extension": ".py",
   "mimetype": "text/x-python",
   "name": "python",
   "nbconvert_exporter": "python",
   "pygments_lexer": "ipython3",
   "version": "3.10.9"
  }
 },
 "nbformat": 4,
 "nbformat_minor": 1
}
